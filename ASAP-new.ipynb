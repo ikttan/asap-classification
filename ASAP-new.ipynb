{
 "cells": [
  {
   "cell_type": "code",
   "execution_count": 1,
   "metadata": {},
   "outputs": [],
   "source": [
    "import pandas as pd\n",
    "import numpy as np\n",
    "from nltk.tokenize import word_tokenize\n",
    "from nltk import pos_tag\n",
    "from nltk.corpus import stopwords\n",
    "from nltk.stem import WordNetLemmatizer\n",
    "from sklearn.preprocessing import LabelEncoder\n",
    "from collections import defaultdict\n",
    "from nltk.corpus import wordnet as wn\n",
    "from sklearn.feature_extraction.text import TfidfVectorizer\n",
    "from sklearn import model_selection, naive_bayes, svm\n",
    "from sklearn.metrics import accuracy_score"
   ]
  },
  {
   "cell_type": "code",
   "execution_count": 2,
   "metadata": {
    "scrolled": true
   },
   "outputs": [],
   "source": [
    "train_set = pd.read_csv(\"./asap-aes/training_set_rel3.tsv\", sep='\\t', encoding=\"latin-1\")"
   ]
  },
  {
   "cell_type": "code",
   "execution_count": 3,
   "metadata": {
    "scrolled": true
   },
   "outputs": [],
   "source": [
    "train_set = train_set[train_set['essay_set'] == 2]\n",
    "train_set = train_set.reset_index()"
   ]
  },
  {
   "cell_type": "code",
   "execution_count": 4,
   "metadata": {},
   "outputs": [],
   "source": [
    "train_set.drop(train_set.columns[0], axis=1, inplace=True)\n",
    "train_set.drop(train_set.columns[7:], axis=1, inplace=True)\n",
    "train_set.drop(train_set.columns[5], axis=1, inplace=True)"
   ]
  },
  {
   "cell_type": "code",
   "execution_count": 5,
   "metadata": {},
   "outputs": [],
   "source": [
    "train_set['essay'] = [entry.lower() for entry in train_set['essay']]\n",
    "train_set[\"essay\"] = [word_tokenize(entry) for entry in train_set[\"essay\"]]"
   ]
  },
  {
   "cell_type": "code",
   "execution_count": 6,
   "metadata": {},
   "outputs": [],
   "source": [
    "train_set['avg_score'] = (train_set['rater1_domain1'] + train_set['rater2_domain1']) / 2\n",
    "train_set['avg_score'] = train_set['avg_score'].apply(np.ceil).astype(int)"
   ]
  },
  {
   "cell_type": "code",
   "execution_count": 7,
   "metadata": {},
   "outputs": [],
   "source": [
    "np.random.seed(500)\n",
    "tag_map = defaultdict(lambda: wn.NOUN)\n",
    "tag_map['J'] = wn.ADJ\n",
    "tag_map['V'] = wn.VERB\n",
    "tag_map['R'] = wn.ADV\n",
    "count = 0\n",
    "for index, entry in enumerate(train_set['essay']):\n",
    "    final_words = []\n",
    "    word_lemmatized = WordNetLemmatizer()\n",
    "    \n",
    "    for word, tag in pos_tag(entry):\n",
    "        if word not in stopwords.words(\"english\") and word.isalpha():\n",
    "            word_final = word_lemmatized.lemmatize(word, tag_map[tag[0]])\n",
    "            final_words.append(word_final)\n",
    "\n",
    "    train_set.loc[index, \"essay_final\"] = str(final_words)\n",
    "train_set.drop(train_set.columns[2], axis=1, inplace=True)"
   ]
  },
  {
   "cell_type": "code",
   "execution_count": 8,
   "metadata": {
    "scrolled": false
   },
   "outputs": [
    {
     "data": {
      "text/html": [
       "<div>\n",
       "<style scoped>\n",
       "    .dataframe tbody tr th:only-of-type {\n",
       "        vertical-align: middle;\n",
       "    }\n",
       "\n",
       "    .dataframe tbody tr th {\n",
       "        vertical-align: top;\n",
       "    }\n",
       "\n",
       "    .dataframe thead th {\n",
       "        text-align: right;\n",
       "    }\n",
       "</style>\n",
       "<table border=\"1\" class=\"dataframe\">\n",
       "  <thead>\n",
       "    <tr style=\"text-align: right;\">\n",
       "      <th></th>\n",
       "      <th>essay_id</th>\n",
       "      <th>essay_set</th>\n",
       "      <th>rater1_domain1</th>\n",
       "      <th>rater2_domain1</th>\n",
       "      <th>domain1_score</th>\n",
       "      <th>avg_score</th>\n",
       "      <th>essay_final</th>\n",
       "    </tr>\n",
       "  </thead>\n",
       "  <tbody>\n",
       "    <tr>\n",
       "      <th>0</th>\n",
       "      <td>2978</td>\n",
       "      <td>2</td>\n",
       "      <td>4</td>\n",
       "      <td>4</td>\n",
       "      <td>4</td>\n",
       "      <td>4</td>\n",
       "      <td>['certain', 'material', 'remove', 'library', '...</td>\n",
       "    </tr>\n",
       "    <tr>\n",
       "      <th>1</th>\n",
       "      <td>2979</td>\n",
       "      <td>2</td>\n",
       "      <td>1</td>\n",
       "      <td>2</td>\n",
       "      <td>1</td>\n",
       "      <td>2</td>\n",
       "      <td>['write', 'persuasive', 'essay', 'newspaper', ...</td>\n",
       "    </tr>\n",
       "    <tr>\n",
       "      <th>2</th>\n",
       "      <td>2980</td>\n",
       "      <td>2</td>\n",
       "      <td>2</td>\n",
       "      <td>3</td>\n",
       "      <td>2</td>\n",
       "      <td>3</td>\n",
       "      <td>['think', 'library', 'remove', 'certain', 'mat...</td>\n",
       "    </tr>\n",
       "    <tr>\n",
       "      <th>3</th>\n",
       "      <td>2981</td>\n",
       "      <td>2</td>\n",
       "      <td>4</td>\n",
       "      <td>4</td>\n",
       "      <td>4</td>\n",
       "      <td>4</td>\n",
       "      <td>['world', 'many', 'thing', 'find', 'offensive'...</td>\n",
       "    </tr>\n",
       "    <tr>\n",
       "      <th>4</th>\n",
       "      <td>2982</td>\n",
       "      <td>2</td>\n",
       "      <td>4</td>\n",
       "      <td>4</td>\n",
       "      <td>4</td>\n",
       "      <td>4</td>\n",
       "      <td>['life', 'thing', 'little', 'stuff', 'get', 's...</td>\n",
       "    </tr>\n",
       "    <tr>\n",
       "      <th>...</th>\n",
       "      <td>...</td>\n",
       "      <td>...</td>\n",
       "      <td>...</td>\n",
       "      <td>...</td>\n",
       "      <td>...</td>\n",
       "      <td>...</td>\n",
       "      <td>...</td>\n",
       "    </tr>\n",
       "    <tr>\n",
       "      <th>1795</th>\n",
       "      <td>4773</td>\n",
       "      <td>2</td>\n",
       "      <td>3</td>\n",
       "      <td>2</td>\n",
       "      <td>3</td>\n",
       "      <td>3</td>\n",
       "      <td>['author', 'writting', 'take', 'book', 'adult'...</td>\n",
       "    </tr>\n",
       "    <tr>\n",
       "      <th>1796</th>\n",
       "      <td>4774</td>\n",
       "      <td>2</td>\n",
       "      <td>3</td>\n",
       "      <td>3</td>\n",
       "      <td>3</td>\n",
       "      <td>3</td>\n",
       "      <td>['think', 'material', 'book', 'music', 'movie'...</td>\n",
       "    </tr>\n",
       "    <tr>\n",
       "      <th>1797</th>\n",
       "      <td>4775</td>\n",
       "      <td>2</td>\n",
       "      <td>2</td>\n",
       "      <td>2</td>\n",
       "      <td>2</td>\n",
       "      <td>2</td>\n",
       "      <td>['yes', 'keep', 'book', 'music', 'movie', 'mag...</td>\n",
       "    </tr>\n",
       "    <tr>\n",
       "      <th>1798</th>\n",
       "      <td>4776</td>\n",
       "      <td>2</td>\n",
       "      <td>3</td>\n",
       "      <td>4</td>\n",
       "      <td>3</td>\n",
       "      <td>4</td>\n",
       "      <td>['believe', 'book', 'magazine', 'music', 'movi...</td>\n",
       "    </tr>\n",
       "    <tr>\n",
       "      <th>1799</th>\n",
       "      <td>4777</td>\n",
       "      <td>2</td>\n",
       "      <td>3</td>\n",
       "      <td>3</td>\n",
       "      <td>3</td>\n",
       "      <td>3</td>\n",
       "      <td>['different', 'everyone', 'else', 'people', 'f...</td>\n",
       "    </tr>\n",
       "  </tbody>\n",
       "</table>\n",
       "<p>1800 rows × 7 columns</p>\n",
       "</div>"
      ],
      "text/plain": [
       "      essay_id  essay_set  rater1_domain1  rater2_domain1  domain1_score  \\\n",
       "0         2978          2               4               4              4   \n",
       "1         2979          2               1               2              1   \n",
       "2         2980          2               2               3              2   \n",
       "3         2981          2               4               4              4   \n",
       "4         2982          2               4               4              4   \n",
       "...        ...        ...             ...             ...            ...   \n",
       "1795      4773          2               3               2              3   \n",
       "1796      4774          2               3               3              3   \n",
       "1797      4775          2               2               2              2   \n",
       "1798      4776          2               3               4              3   \n",
       "1799      4777          2               3               3              3   \n",
       "\n",
       "      avg_score                                        essay_final  \n",
       "0             4  ['certain', 'material', 'remove', 'library', '...  \n",
       "1             2  ['write', 'persuasive', 'essay', 'newspaper', ...  \n",
       "2             3  ['think', 'library', 'remove', 'certain', 'mat...  \n",
       "3             4  ['world', 'many', 'thing', 'find', 'offensive'...  \n",
       "4             4  ['life', 'thing', 'little', 'stuff', 'get', 's...  \n",
       "...         ...                                                ...  \n",
       "1795          3  ['author', 'writting', 'take', 'book', 'adult'...  \n",
       "1796          3  ['think', 'material', 'book', 'music', 'movie'...  \n",
       "1797          2  ['yes', 'keep', 'book', 'music', 'movie', 'mag...  \n",
       "1798          4  ['believe', 'book', 'magazine', 'music', 'movi...  \n",
       "1799          3  ['different', 'everyone', 'else', 'people', 'f...  \n",
       "\n",
       "[1800 rows x 7 columns]"
      ]
     },
     "execution_count": 8,
     "metadata": {},
     "output_type": "execute_result"
    }
   ],
   "source": [
    "train_set"
   ]
  },
  {
   "cell_type": "code",
   "execution_count": 9,
   "metadata": {},
   "outputs": [],
   "source": [
    "# splitting into training and testing set\n",
    "train_essay, test_essay, train_label, test_label = model_selection.train_test_split(train_set['essay_final'], train_set['avg_score'], test_size=0.3)"
   ]
  },
  {
   "cell_type": "code",
   "execution_count": 10,
   "metadata": {},
   "outputs": [],
   "source": [
    "# transform the avg score into label of 0,1,2,3....\n",
    "Encoder = LabelEncoder()\n",
    "train_label = Encoder.fit_transform(train_label)\n",
    "test_label = Encoder.fit_transform(test_label)"
   ]
  },
  {
   "cell_type": "code",
   "execution_count": 401,
   "metadata": {},
   "outputs": [
    {
     "data": {
      "text/plain": [
       "array([3, 3, 3, ..., 2, 2, 3])"
      ]
     },
     "execution_count": 401,
     "metadata": {},
     "output_type": "execute_result"
    }
   ],
   "source": [
    "train_label"
   ]
  },
  {
   "cell_type": "code",
   "execution_count": 402,
   "metadata": {
    "collapsed": true
   },
   "outputs": [
    {
     "data": {
      "text/plain": [
       "array([3, 2, 3, 2, 3, 3, 1, 3, 3, 2, 1, 1, 1, 1, 2, 4, 3, 3, 4, 4, 2, 2,\n",
       "       3, 2, 1, 3, 3, 2, 2, 2, 2, 2, 2, 2, 1, 2, 3, 2, 3, 3, 3, 0, 2, 2,\n",
       "       3, 3, 3, 4, 2, 3, 3, 3, 2, 2, 3, 2, 2, 2, 3, 2, 3, 3, 3, 2, 3, 2,\n",
       "       2, 4, 2, 3, 3, 2, 2, 3, 2, 2, 2, 3, 2, 1, 3, 3, 3, 3, 3, 2, 3, 2,\n",
       "       2, 3, 3, 2, 5, 3, 3, 3, 2, 2, 4, 2, 2, 3, 2, 4, 2, 3, 3, 3, 2, 2,\n",
       "       2, 3, 2, 1, 3, 2, 3, 4, 2, 2, 3, 2, 3, 3, 3, 3, 2, 2, 2, 3, 3, 3,\n",
       "       1, 2, 3, 3, 3, 3, 3, 3, 3, 3, 3, 2, 3, 3, 2, 2, 2, 2, 3, 3, 3, 3,\n",
       "       3, 3, 3, 3, 3, 1, 2, 2, 2, 3, 3, 3, 3, 1, 1, 2, 3, 3, 2, 3, 2, 1,\n",
       "       2, 2, 3, 3, 2, 3, 2, 3, 2, 2, 2, 3, 3, 2, 2, 1, 3, 2, 2, 3, 3, 2,\n",
       "       2, 2, 3, 4, 3, 3, 2, 2, 2, 4, 1, 3, 4, 2, 3, 3, 1, 2, 3, 3, 2, 3,\n",
       "       3, 2, 2, 3, 3, 3, 3, 3, 2, 1, 3, 3, 3, 2, 3, 2, 2, 2, 3, 2, 3, 2,\n",
       "       3, 3, 3, 5, 3, 2, 3, 2, 4, 2, 2, 3, 2, 1, 4, 3, 4, 2, 2, 2, 3, 2,\n",
       "       3, 4, 3, 2, 2, 2, 3, 3, 2, 3, 2, 3, 2, 3, 3, 2, 3, 0, 3, 2, 2, 2,\n",
       "       3, 3, 2, 3, 3, 1, 2, 3, 3, 4, 2, 0, 4, 3, 2, 3, 2, 2, 2, 4, 2, 4,\n",
       "       3, 2, 4, 3, 3, 4, 3, 3, 3, 2, 3, 3, 2, 4, 2, 2, 3, 3, 3, 3, 2, 3,\n",
       "       3, 2, 2, 2, 2, 3, 2, 3, 3, 0, 4, 3, 2, 2, 2, 3, 3, 4, 3, 3, 3, 3,\n",
       "       3, 3, 3, 2, 4, 2, 3, 3, 4, 3, 2, 5, 2, 3, 3, 3, 3, 2, 3, 1, 2, 3,\n",
       "       2, 2, 2, 3, 3, 3, 2, 2, 2, 3, 4, 3, 3, 3, 4, 2, 2, 3, 3, 2, 3, 5,\n",
       "       2, 3, 2, 2, 1, 3, 2, 2, 3, 2, 3, 1, 0, 2, 3, 3, 3, 4, 3, 3, 4, 1,\n",
       "       3, 2, 2, 2, 1, 3, 3, 2, 3, 3, 3, 3, 0, 2, 3, 3, 3, 3, 2, 1, 3, 2,\n",
       "       2, 2, 4, 3, 3, 3, 2, 2, 3, 3, 2, 2, 2, 3, 2, 3, 3, 2, 3, 4, 3, 3,\n",
       "       3, 2, 2, 3, 3, 2, 3, 3, 3, 2, 3, 2, 2, 2, 3, 3, 3, 2, 2, 3, 2, 4,\n",
       "       2, 4, 2, 2, 2, 2, 3, 1, 2, 3, 3, 2, 3, 2, 3, 3, 1, 3, 3, 3, 3, 3,\n",
       "       4, 2, 2, 3, 2, 2, 3, 3, 3, 2, 3, 3, 2, 2, 4, 2, 2, 2, 3, 3, 2, 2,\n",
       "       3, 3, 2, 2, 3, 3, 2, 3, 2, 2, 2, 3])"
      ]
     },
     "execution_count": 402,
     "metadata": {},
     "output_type": "execute_result"
    }
   ],
   "source": [
    "test_label"
   ]
  },
  {
   "cell_type": "code",
   "execution_count": 13,
   "metadata": {},
   "outputs": [],
   "source": [
    "## NOTE: Not too sure if this section is done correctly / do not understand the what's going on at the back\n",
    "# transform essay into matrix\n",
    "Tfidf_vect = TfidfVectorizer()\n",
    "Tfidf_vect.fit(train_set[\"essay_final\"])\n",
    "train_essay_vect = Tfidf_vect.transform(train_essay)\n",
    "test_essay_vect = Tfidf_vect.transform(test_essay)"
   ]
  },
  {
   "cell_type": "code",
   "execution_count": 14,
   "metadata": {},
   "outputs": [
    {
     "data": {
      "text/plain": [
       "1740    ['find', 'book', 'think', 'innapropiate', 'oth...\n",
       "69      ['many', 'people', 'stern', 'thought', 'believ...\n",
       "919     ['believe', 'find', 'book', 'offensive', 'read...\n",
       "654     ['cause', 'case', 'evry', 'book', 'read', 'cou...\n",
       "413     ['say', 'word', 'exactly', 'say', 'brother', '...\n",
       "                              ...                        \n",
       "851     ['much', 'censorship', 'occur', 'world', 'musi...\n",
       "1663    ['think', 'offensive', 'avavible', 'kid', 'int...\n",
       "656     ['yes', 'think', 'material', 'library', 'offen...\n",
       "645     ['think', 'anything', 'get', 'check', 'library...\n",
       "178     ['citizen', 'believe', 'censorship', 'material...\n",
       "Name: essay_final, Length: 540, dtype: object"
      ]
     },
     "execution_count": 14,
     "metadata": {},
     "output_type": "execute_result"
    }
   ],
   "source": [
    "test_essay"
   ]
  },
  {
   "cell_type": "code",
   "execution_count": 391,
   "metadata": {
    "collapsed": true
   },
   "outputs": [
    {
     "data": {
      "text/plain": [
       "array([3, 3, 3, 2, 2, 2, 2, 3, 2, 2, 3, 3, 2, 5, 3, 3, 3, 1, 2, 3, 3, 3,\n",
       "       3, 2, 2, 3, 3, 2, 2, 1, 3, 2, 2, 2, 3, 3, 3, 3, 3, 2, 2, 2, 3, 3,\n",
       "       2, 3, 4, 2, 3, 3, 3, 3, 3, 4, 1, 3, 2, 3, 2, 4, 2, 1, 2, 4, 2, 3,\n",
       "       3, 3, 3, 3, 0, 3, 2, 2, 2, 2, 2, 3, 3, 2, 2, 4, 3, 3, 3, 4, 2, 2,\n",
       "       2, 3, 3, 3, 3, 3, 3, 3, 2, 3, 2, 3, 2, 2, 3, 3, 3, 3, 3, 2, 3, 2,\n",
       "       3, 2, 3, 2, 3, 3, 2, 4, 2, 3, 3, 3, 1, 2, 3, 2, 2, 2, 2, 3, 2, 3,\n",
       "       2, 3, 3, 3, 2, 3, 2, 3, 4, 2, 2, 3, 3, 3, 2, 2, 2, 3, 0, 3, 3, 4,\n",
       "       3, 3, 2, 3, 3, 2, 2, 4, 4, 2, 2, 3, 3, 3, 3, 3, 2, 4, 1, 2, 3, 3,\n",
       "       3, 3, 2, 3, 5, 3, 3, 3, 1, 2, 3, 2, 2, 2, 2, 2, 3, 2, 2, 3, 2, 2,\n",
       "       3, 2, 2, 3, 2, 2, 3, 2, 3, 3, 3, 2, 1, 3, 3, 2, 3, 3, 2, 3, 3, 3,\n",
       "       3, 2, 3, 1, 3, 2, 3, 4, 3, 1, 3, 3, 3, 3, 3, 3, 3, 4, 3, 2, 2, 2,\n",
       "       3, 1, 2, 1, 2, 3, 2, 3, 2, 2, 3, 2, 2, 3, 0, 3, 1, 2, 3, 3, 2, 3,\n",
       "       3, 3, 3, 1, 2, 3, 2, 3, 2, 3, 2, 3, 2, 3, 3, 2, 2, 4, 3, 4, 2, 3,\n",
       "       2, 3, 1, 3, 2, 3, 3, 2, 2, 2, 3, 2, 3, 4, 3, 3, 3, 3, 3, 2, 2, 2,\n",
       "       3, 3, 2, 2, 1, 2, 3, 3, 3, 3, 2, 4, 2, 3, 3, 3, 3, 4, 2, 2, 3, 3,\n",
       "       3, 3, 3, 3, 2, 2, 2, 3, 3, 3, 3, 2, 3, 3, 1, 4, 2, 1, 2, 2, 3, 2,\n",
       "       4, 2, 2, 3, 2, 2, 1, 2, 2, 4, 2, 2, 3, 2, 2, 2, 3, 3, 3, 2, 2, 3,\n",
       "       3, 2, 3, 3, 3, 3, 3, 2, 0, 4, 3, 3, 3, 3, 2, 3, 2, 3, 1, 3, 2, 4,\n",
       "       3, 3, 3, 3, 3, 4, 2, 3, 2, 2, 4, 3, 3, 3, 3, 3, 3, 1, 3, 3, 3, 2,\n",
       "       2, 2, 2, 2, 4, 3, 2, 2, 2, 3, 3, 2, 2, 2, 3, 3, 3, 2, 3, 3, 3, 2,\n",
       "       3, 2, 3, 1, 0, 1, 2, 3, 3, 3, 3, 3, 2, 4, 2, 2, 2, 1, 3, 2, 3, 2,\n",
       "       3, 3, 2, 2, 3, 3, 4, 2, 2, 3, 2, 3, 3, 1, 2, 3, 3, 3, 2, 1, 2, 2,\n",
       "       3, 3, 1, 2, 2, 2, 3, 3, 2, 3, 3, 1, 3, 1, 3, 2, 2, 2, 2, 2, 3, 3,\n",
       "       2, 3, 3, 3, 2, 3, 3, 2, 1, 2, 2, 3, 2, 0, 1, 2, 2, 1, 1, 3, 2, 3,\n",
       "       2, 3, 2, 3, 3, 2, 1, 3, 2, 3, 2, 2])"
      ]
     },
     "execution_count": 391,
     "metadata": {},
     "output_type": "execute_result"
    }
   ],
   "source": [
    "test_label"
   ]
  },
  {
   "cell_type": "code",
   "execution_count": 385,
   "metadata": {
    "scrolled": true
   },
   "outputs": [
    {
     "data": {
      "text/plain": [
       "1066    ['author', 'katherine', 'paterson', 'once', 'c...\n",
       "59      ['when', 'you', 'be', 'a', 'child', 'how', 'mu...\n",
       "303     ['at', 'a', 'local', 'library', 'you', 'can', ...\n",
       "759     ['should', 'book', 'that', 'be', 'offensive', ...\n",
       "411     ['people', 'should', 'not', 'take', 'all', 'th...\n",
       "                              ...                        \n",
       "1345    ['should', 'there', 'be', 'cenorship', 'in', '...\n",
       "284     ['how', 'many', 'of', 'you', 'have', 'ever', '...\n",
       "1202    ['i', 'believe', 'that', 'many', 'book', 'in',...\n",
       "1250    ['a', 'a', 'student', 'at', 'a', 'public', 'sc...\n",
       "114     ['do', 'you', 'think', 'there', 'should', 'be'...\n",
       "Name: essay_final, Length: 1260, dtype: object"
      ]
     },
     "execution_count": 385,
     "metadata": {},
     "output_type": "execute_result"
    }
   ],
   "source": [
    "train_essay"
   ]
  },
  {
   "cell_type": "code",
   "execution_count": 15,
   "metadata": {},
   "outputs": [
    {
     "name": "stdout",
     "output_type": "stream",
     "text": [
      "47.592592592592595\n"
     ]
    }
   ],
   "source": [
    "# fitting training set into naive bayes\n",
    "naive = naive_bayes.MultinomialNB()\n",
    "naive.fit(train_essay_vect, train_label)\n",
    "\n",
    "# fitting testing set on NB classifier\n",
    "predictions_NB = naive.predict(test_essay_vect)\n",
    "print(accuracy_score(predictions_NB, test_label)*100)\n",
    "# predictions_NB"
   ]
  },
  {
   "cell_type": "code",
   "execution_count": 16,
   "metadata": {
    "scrolled": false
   },
   "outputs": [
    {
     "data": {
      "text/plain": [
       "array([3, 3, 3, 3, 3, 3, 3, 3, 3, 3, 3, 3, 2, 3, 3, 3, 3, 3, 3, 3, 3, 3,\n",
       "       3, 3, 3, 3, 3, 3, 3, 3, 3, 3, 3, 3, 3, 3, 3, 3, 3, 3, 3, 3, 3, 3,\n",
       "       3, 3, 3, 3, 3, 3, 3, 3, 3, 3, 3, 3, 3, 3, 3, 3, 3, 3, 3, 3, 3, 3,\n",
       "       3, 3, 3, 3, 3, 3, 3, 3, 3, 3, 3, 3, 3, 3, 3, 3, 3, 3, 3, 3, 3, 3,\n",
       "       3, 3, 3, 3, 3, 3, 3, 3, 3, 3, 3, 3, 3, 3, 3, 3, 3, 3, 3, 3, 3, 3,\n",
       "       3, 3, 3, 3, 3, 3, 3, 3, 3, 3, 3, 3, 3, 3, 3, 3, 3, 3, 3, 3, 3, 3,\n",
       "       3, 3, 3, 3, 3, 3, 3, 3, 3, 3, 3, 3, 3, 3, 3, 3, 3, 3, 3, 3, 3, 3,\n",
       "       3, 3, 3, 3, 3, 3, 3, 3, 3, 3, 3, 3, 3, 3, 3, 3, 3, 3, 3, 3, 3, 3,\n",
       "       3, 3, 3, 3, 3, 3, 3, 3, 3, 3, 3, 3, 3, 3, 3, 3, 3, 3, 3, 3, 3, 3,\n",
       "       3, 3, 3, 3, 3, 3, 3, 3, 3, 3, 3, 3, 3, 3, 3, 3, 3, 3, 3, 3, 3, 3,\n",
       "       3, 3, 3, 3, 3, 3, 3, 3, 3, 3, 3, 3, 3, 3, 3, 3, 3, 3, 3, 3, 3, 3,\n",
       "       3, 3, 3, 3, 3, 2, 3, 3, 3, 3, 3, 3, 3, 3, 3, 3, 3, 3, 3, 3, 3, 3,\n",
       "       3, 3, 3, 3, 3, 3, 3, 3, 3, 3, 3, 3, 3, 3, 3, 3, 3, 3, 3, 3, 3, 3,\n",
       "       3, 3, 3, 3, 3, 3, 3, 3, 3, 3, 3, 3, 3, 3, 3, 3, 3, 3, 3, 3, 3, 3,\n",
       "       3, 3, 3, 3, 3, 3, 3, 3, 3, 3, 3, 3, 3, 3, 3, 3, 3, 3, 3, 3, 3, 3,\n",
       "       3, 2, 3, 3, 3, 3, 3, 3, 3, 2, 3, 3, 3, 3, 3, 3, 3, 3, 3, 3, 3, 3,\n",
       "       3, 3, 3, 3, 3, 3, 3, 3, 3, 3, 3, 3, 3, 3, 3, 3, 3, 3, 3, 3, 3, 3,\n",
       "       3, 3, 3, 3, 3, 3, 3, 3, 3, 3, 3, 3, 3, 3, 3, 3, 3, 3, 3, 3, 3, 3,\n",
       "       3, 3, 3, 3, 3, 3, 3, 3, 3, 3, 3, 3, 3, 3, 3, 3, 3, 3, 3, 3, 3, 3,\n",
       "       3, 3, 3, 3, 2, 3, 3, 3, 3, 3, 3, 3, 3, 3, 3, 3, 3, 3, 3, 3, 3, 3,\n",
       "       3, 3, 3, 3, 3, 3, 3, 3, 3, 3, 3, 3, 3, 3, 3, 3, 3, 3, 3, 3, 3, 3,\n",
       "       3, 3, 3, 3, 3, 3, 3, 3, 3, 3, 3, 3, 3, 3, 3, 3, 3, 3, 3, 3, 3, 3,\n",
       "       3, 3, 3, 3, 3, 3, 3, 2, 3, 3, 3, 3, 3, 3, 3, 3, 3, 3, 3, 3, 3, 3,\n",
       "       3, 3, 3, 3, 3, 3, 3, 3, 3, 3, 3, 3, 3, 3, 3, 2, 3, 3, 3, 3, 3, 3,\n",
       "       3, 3, 3, 3, 3, 3, 3, 3, 3, 3, 3, 3])"
      ]
     },
     "execution_count": 16,
     "metadata": {},
     "output_type": "execute_result"
    }
   ],
   "source": [
    "predictions_NB"
   ]
  },
  {
   "cell_type": "code",
   "execution_count": 389,
   "metadata": {},
   "outputs": [
    {
     "name": "stdout",
     "output_type": "stream",
     "text": [
      "SVM Accuracy Score ->  48.7037037037037\n"
     ]
    }
   ],
   "source": [
    "# Classifier - Algorithm - SVM\n",
    "# fit the training dataset on the classifier\n",
    "SVM = svm.SVC(C=1.0, kernel='rbf', degree=2, gamma='auto')\n",
    "SVM.fit(train_essay_vect, train_label)\n",
    "predictions_SVM = SVM.predict(test_essay_vect)\n",
    "print(\"SVM Accuracy Score -> \",accuracy_score(predictions_SVM, test_label)*100)"
   ]
  },
  {
   "cell_type": "code",
   "execution_count": 369,
   "metadata": {
    "scrolled": true
   },
   "outputs": [
    {
     "data": {
      "text/plain": [
       "array([3, 3, 3, 3, 3, 3, 3, 3, 3, 3, 3, 3, 3, 3, 3, 3, 3, 3, 3, 3, 3, 3,\n",
       "       3, 3, 3, 3, 3, 3, 3, 3, 3, 3, 3, 3, 3, 3, 3, 3, 3, 3, 3, 3, 3, 3,\n",
       "       3, 3, 3, 3, 3, 3, 3, 3, 3, 3, 3, 3, 3, 3, 3, 3, 3, 3, 3, 3, 3, 3,\n",
       "       3, 3, 3, 3, 3, 3, 3, 3, 3, 3, 3, 3, 3, 3, 3, 3, 3, 3, 3, 3, 3, 3,\n",
       "       3, 3, 3, 3, 3, 3, 3, 3, 3, 3, 3, 3, 3, 3, 3, 3, 3, 3, 3, 3, 3, 3,\n",
       "       3, 3, 3, 3, 3, 3, 3, 3, 3, 3, 3, 3, 3, 3, 3, 3, 3, 3, 3, 3, 3, 3,\n",
       "       3, 3, 3, 3, 3, 3, 3, 3, 3, 3, 3, 3, 3, 3, 3, 3, 3, 3, 3, 3, 3, 3,\n",
       "       3, 3, 3, 3, 3, 3, 3, 3, 3, 3, 3, 3, 3, 3, 3, 3, 3, 3, 3, 3, 3, 3,\n",
       "       3, 3, 3, 3, 3, 3, 3, 3, 3, 3, 3, 3, 3, 3, 3, 3, 3, 3, 3, 3, 3, 3,\n",
       "       3, 3, 3, 3, 3, 3, 3, 3, 3, 3, 3, 3, 3, 3, 3, 3, 3, 3, 3, 3, 3, 3,\n",
       "       3, 3, 3, 3, 3, 3, 3, 3, 3, 3, 3, 3, 3, 3, 3, 3, 3, 3, 3, 3, 3, 3,\n",
       "       3, 3, 3, 3, 3, 3, 3, 3, 3, 3, 3, 3, 3, 3, 3, 3, 3, 3, 3, 3, 3, 3,\n",
       "       3, 3, 3, 3, 3, 3, 3, 3, 3, 3, 3, 3, 3, 3, 3, 3, 3, 3, 3, 3, 3, 3,\n",
       "       3, 3, 3, 3, 3, 3, 3, 3, 3, 3, 3, 3, 3, 3, 3, 3, 3, 3, 3, 3, 3, 3,\n",
       "       3, 3, 3, 3, 3, 3, 3, 3, 3, 3, 3, 3, 3, 3, 3, 3, 3, 3, 3, 3, 3, 3,\n",
       "       3, 3, 3, 3, 3, 3, 3, 3, 3, 3, 3, 3, 3, 3, 3, 3, 3, 3, 3, 3, 3, 3,\n",
       "       3, 3, 3, 3, 3, 3, 3, 3, 3, 3, 3, 3, 3, 3, 3, 3, 3, 3, 3, 3, 3, 3,\n",
       "       3, 3, 3, 3, 3, 3, 3, 3, 3, 3, 3, 3, 3, 3, 3, 3, 3, 3, 3, 3, 3, 3,\n",
       "       3, 3, 3, 3, 3, 3, 3, 3, 3, 3, 3, 3, 3, 3, 3, 3, 3, 3, 3, 3, 3, 3,\n",
       "       3, 3, 3, 3, 3, 3, 3, 3, 3, 3, 3, 3, 3, 3, 3, 3, 3, 3, 3, 3, 3, 3,\n",
       "       3, 3, 3, 3, 3, 3, 3, 3, 3, 3, 3, 3, 3, 3, 3, 3, 3, 3, 3, 3, 3, 3,\n",
       "       3, 3, 3, 3, 3, 3, 3, 3, 3, 3, 3, 3, 3, 3, 3, 3, 3, 3, 3, 3, 3, 3,\n",
       "       3, 3, 3, 3, 3, 3, 3, 3, 3, 3, 3, 3, 3, 3, 3, 3, 3, 3, 3, 3, 3, 3,\n",
       "       3, 3, 3, 3, 3, 3, 3, 3, 3, 3, 3, 3, 3, 3, 3, 3, 3, 3, 3, 3, 3, 3,\n",
       "       3, 3, 3, 3, 3, 3, 3, 3, 3, 3, 3, 3])"
      ]
     },
     "execution_count": 369,
     "metadata": {},
     "output_type": "execute_result"
    }
   ],
   "source": [
    "predictions_SVM"
   ]
  },
  {
   "cell_type": "code",
   "execution_count": null,
   "metadata": {},
   "outputs": [],
   "source": []
  }
 ],
 "metadata": {
  "kernelspec": {
   "display_name": "Python 3",
   "language": "python",
   "name": "python3"
  },
  "language_info": {
   "codemirror_mode": {
    "name": "ipython",
    "version": 3
   },
   "file_extension": ".py",
   "mimetype": "text/x-python",
   "name": "python",
   "nbconvert_exporter": "python",
   "pygments_lexer": "ipython3",
   "version": "3.7.4"
  }
 },
 "nbformat": 4,
 "nbformat_minor": 4
}
