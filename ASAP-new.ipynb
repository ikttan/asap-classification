{
 "cells": [
  {
   "cell_type": "code",
   "execution_count": 219,
   "metadata": {},
   "outputs": [],
   "source": [
    "import pandas as pd\n",
    "import numpy as np\n",
    "from nltk.tokenize import word_tokenize\n",
    "from nltk import pos_tag\n",
    "from nltk.corpus import stopwords\n",
    "from nltk.stem import WordNetLemmatizer\n",
    "from sklearn.preprocessing import LabelEncoder\n",
    "from collections import defaultdict\n",
    "from nltk.corpus import wordnet as wn\n",
    "from sklearn.feature_extraction.text import TfidfVectorizer\n",
    "from sklearn import model_selection, naive_bayes, svm\n",
    "from sklearn.metrics import accuracy_score, confusion_matrix"
   ]
  },
  {
   "cell_type": "code",
   "execution_count": 220,
   "metadata": {
    "scrolled": true
   },
   "outputs": [],
   "source": [
    "train_set = pd.read_csv(\"./asap-aes/training_set_rel3.tsv\", sep='\\t', encoding=\"latin-1\")"
   ]
  },
  {
   "cell_type": "code",
   "execution_count": 221,
   "metadata": {},
   "outputs": [],
   "source": [
    "train_set = train_set[train_set['essay_set'] == 2]  # filter for set 2\n",
    "train_set = train_set.reset_index() # resets index"
   ]
  },
  {
   "cell_type": "code",
   "execution_count": 222,
   "metadata": {},
   "outputs": [],
   "source": [
    "train_set.drop(train_set.columns[0], axis=1, inplace=True) # removes old index\n",
    "train_set.drop(train_set.columns[7:], axis=1, inplace=True) # filter only domain 1 scores\n",
    "train_set.drop(train_set.columns[5], axis=1, inplace=True) # removes rater3_domain1 (NaN for all)"
   ]
  },
  {
   "cell_type": "code",
   "execution_count": 223,
   "metadata": {},
   "outputs": [],
   "source": [
    "train_set['essay'] = [entry.lower() for entry in train_set['essay']] # lower case for all words in essay\n",
    "train_set[\"essay\"] = [word_tokenize(entry) for entry in train_set[\"essay\"]] # break paragraphs string into tokens"
   ]
  },
  {
   "cell_type": "code",
   "execution_count": 224,
   "metadata": {},
   "outputs": [],
   "source": [
    "train_set['avg_score'] = (train_set['rater1_domain1'] + train_set['rater2_domain1']) / 2 # calculate average score\n",
    "train_set['avg_score'] = train_set['avg_score'].apply(np.ceil).astype(int) # round off average score"
   ]
  },
  {
   "cell_type": "code",
   "execution_count": 225,
   "metadata": {},
   "outputs": [],
   "source": [
    "np.random.seed(500)\n",
    "tag_map = defaultdict(lambda: wn.NOUN)\n",
    "tag_map['J'] = wn.ADJ\n",
    "tag_map['V'] = wn.VERB\n",
    "tag_map['R'] = wn.ADV\n",
    "count = 0\n",
    "for index, entry in enumerate(train_set['essay']):\n",
    "    final_words = []\n",
    "    word_lemmatized = WordNetLemmatizer()\n",
    "    \n",
    "    for word, tag in pos_tag(entry):\n",
    "        if word not in stopwords.words(\"english\") and word.isalpha():\n",
    "            word_final = word_lemmatized.lemmatize(word, tag_map[tag[0]])\n",
    "            final_words.append(word_final)\n",
    "\n",
    "    train_set.loc[index, \"essay_final\"] = str(final_words)\n",
    "train_set.drop(train_set.columns[2], axis=1, inplace=True) # removes the original essay column"
   ]
  },
  {
   "cell_type": "code",
   "execution_count": 226,
   "metadata": {},
   "outputs": [],
   "source": [
    "train_set['type1'] = train_set.apply(lambda x: 0 if x['avg_score'] <= 3 else 1, axis=1)\n",
    "train_set['type2'] = train_set.apply(lambda x: 0 if x['avg_score'] <= 4 else 1, axis=1)\n",
    "train_set['type3'] = train_set.apply(lambda x: 0 if x['avg_score'] <= 5 else 1, axis=1)"
   ]
  },
  {
   "cell_type": "code",
   "execution_count": 227,
   "metadata": {},
   "outputs": [],
   "source": [
    "train_set['type4'] = train_set.apply(lambda x: 0 if x['avg_score'] <= 1 else 1, axis=1)\n",
    "train_set['type5'] = train_set.apply(lambda x: 0 if x['avg_score'] <= 2 else 1, axis=1)"
   ]
  },
  {
   "cell_type": "code",
   "execution_count": 228,
   "metadata": {},
   "outputs": [],
   "source": [
    "train_set['avg_score'] = (train_set['rater1_domain1'] + train_set['rater2_domain1']) / 2 # calculate average score\n",
    "train_set['avg_score'] = train_set['avg_score'].apply(np.ceil).astype(int) # round off average score"
   ]
  },
  {
   "cell_type": "code",
   "execution_count": 229,
   "metadata": {
    "scrolled": false
   },
   "outputs": [
    {
     "data": {
      "text/html": [
       "<div>\n",
       "<style scoped>\n",
       "    .dataframe tbody tr th:only-of-type {\n",
       "        vertical-align: middle;\n",
       "    }\n",
       "\n",
       "    .dataframe tbody tr th {\n",
       "        vertical-align: top;\n",
       "    }\n",
       "\n",
       "    .dataframe thead th {\n",
       "        text-align: right;\n",
       "    }\n",
       "</style>\n",
       "<table border=\"1\" class=\"dataframe\">\n",
       "  <thead>\n",
       "    <tr style=\"text-align: right;\">\n",
       "      <th></th>\n",
       "      <th>essay_id</th>\n",
       "      <th>essay_set</th>\n",
       "      <th>rater1_domain1</th>\n",
       "      <th>rater2_domain1</th>\n",
       "      <th>domain1_score</th>\n",
       "      <th>avg_score</th>\n",
       "      <th>essay_final</th>\n",
       "      <th>type1</th>\n",
       "      <th>type2</th>\n",
       "      <th>type3</th>\n",
       "      <th>type4</th>\n",
       "      <th>type5</th>\n",
       "    </tr>\n",
       "  </thead>\n",
       "  <tbody>\n",
       "    <tr>\n",
       "      <th>0</th>\n",
       "      <td>2978</td>\n",
       "      <td>2</td>\n",
       "      <td>4</td>\n",
       "      <td>4</td>\n",
       "      <td>4</td>\n",
       "      <td>4</td>\n",
       "      <td>['certain', 'material', 'remove', 'library', '...</td>\n",
       "      <td>1</td>\n",
       "      <td>0</td>\n",
       "      <td>0</td>\n",
       "      <td>1</td>\n",
       "      <td>1</td>\n",
       "    </tr>\n",
       "    <tr>\n",
       "      <th>1</th>\n",
       "      <td>2979</td>\n",
       "      <td>2</td>\n",
       "      <td>1</td>\n",
       "      <td>2</td>\n",
       "      <td>1</td>\n",
       "      <td>2</td>\n",
       "      <td>['write', 'persuasive', 'essay', 'newspaper', ...</td>\n",
       "      <td>0</td>\n",
       "      <td>0</td>\n",
       "      <td>0</td>\n",
       "      <td>1</td>\n",
       "      <td>0</td>\n",
       "    </tr>\n",
       "    <tr>\n",
       "      <th>2</th>\n",
       "      <td>2980</td>\n",
       "      <td>2</td>\n",
       "      <td>2</td>\n",
       "      <td>3</td>\n",
       "      <td>2</td>\n",
       "      <td>3</td>\n",
       "      <td>['think', 'library', 'remove', 'certain', 'mat...</td>\n",
       "      <td>0</td>\n",
       "      <td>0</td>\n",
       "      <td>0</td>\n",
       "      <td>1</td>\n",
       "      <td>1</td>\n",
       "    </tr>\n",
       "    <tr>\n",
       "      <th>3</th>\n",
       "      <td>2981</td>\n",
       "      <td>2</td>\n",
       "      <td>4</td>\n",
       "      <td>4</td>\n",
       "      <td>4</td>\n",
       "      <td>4</td>\n",
       "      <td>['world', 'many', 'thing', 'find', 'offensive'...</td>\n",
       "      <td>1</td>\n",
       "      <td>0</td>\n",
       "      <td>0</td>\n",
       "      <td>1</td>\n",
       "      <td>1</td>\n",
       "    </tr>\n",
       "    <tr>\n",
       "      <th>4</th>\n",
       "      <td>2982</td>\n",
       "      <td>2</td>\n",
       "      <td>4</td>\n",
       "      <td>4</td>\n",
       "      <td>4</td>\n",
       "      <td>4</td>\n",
       "      <td>['life', 'thing', 'little', 'stuff', 'get', 's...</td>\n",
       "      <td>1</td>\n",
       "      <td>0</td>\n",
       "      <td>0</td>\n",
       "      <td>1</td>\n",
       "      <td>1</td>\n",
       "    </tr>\n",
       "    <tr>\n",
       "      <th>...</th>\n",
       "      <td>...</td>\n",
       "      <td>...</td>\n",
       "      <td>...</td>\n",
       "      <td>...</td>\n",
       "      <td>...</td>\n",
       "      <td>...</td>\n",
       "      <td>...</td>\n",
       "      <td>...</td>\n",
       "      <td>...</td>\n",
       "      <td>...</td>\n",
       "      <td>...</td>\n",
       "      <td>...</td>\n",
       "    </tr>\n",
       "    <tr>\n",
       "      <th>1795</th>\n",
       "      <td>4773</td>\n",
       "      <td>2</td>\n",
       "      <td>3</td>\n",
       "      <td>2</td>\n",
       "      <td>3</td>\n",
       "      <td>3</td>\n",
       "      <td>['author', 'writting', 'take', 'book', 'adult'...</td>\n",
       "      <td>0</td>\n",
       "      <td>0</td>\n",
       "      <td>0</td>\n",
       "      <td>1</td>\n",
       "      <td>1</td>\n",
       "    </tr>\n",
       "    <tr>\n",
       "      <th>1796</th>\n",
       "      <td>4774</td>\n",
       "      <td>2</td>\n",
       "      <td>3</td>\n",
       "      <td>3</td>\n",
       "      <td>3</td>\n",
       "      <td>3</td>\n",
       "      <td>['think', 'material', 'book', 'music', 'movie'...</td>\n",
       "      <td>0</td>\n",
       "      <td>0</td>\n",
       "      <td>0</td>\n",
       "      <td>1</td>\n",
       "      <td>1</td>\n",
       "    </tr>\n",
       "    <tr>\n",
       "      <th>1797</th>\n",
       "      <td>4775</td>\n",
       "      <td>2</td>\n",
       "      <td>2</td>\n",
       "      <td>2</td>\n",
       "      <td>2</td>\n",
       "      <td>2</td>\n",
       "      <td>['yes', 'keep', 'book', 'music', 'movie', 'mag...</td>\n",
       "      <td>0</td>\n",
       "      <td>0</td>\n",
       "      <td>0</td>\n",
       "      <td>1</td>\n",
       "      <td>0</td>\n",
       "    </tr>\n",
       "    <tr>\n",
       "      <th>1798</th>\n",
       "      <td>4776</td>\n",
       "      <td>2</td>\n",
       "      <td>3</td>\n",
       "      <td>4</td>\n",
       "      <td>3</td>\n",
       "      <td>4</td>\n",
       "      <td>['believe', 'book', 'magazine', 'music', 'movi...</td>\n",
       "      <td>1</td>\n",
       "      <td>0</td>\n",
       "      <td>0</td>\n",
       "      <td>1</td>\n",
       "      <td>1</td>\n",
       "    </tr>\n",
       "    <tr>\n",
       "      <th>1799</th>\n",
       "      <td>4777</td>\n",
       "      <td>2</td>\n",
       "      <td>3</td>\n",
       "      <td>3</td>\n",
       "      <td>3</td>\n",
       "      <td>3</td>\n",
       "      <td>['different', 'everyone', 'else', 'people', 'f...</td>\n",
       "      <td>0</td>\n",
       "      <td>0</td>\n",
       "      <td>0</td>\n",
       "      <td>1</td>\n",
       "      <td>1</td>\n",
       "    </tr>\n",
       "  </tbody>\n",
       "</table>\n",
       "<p>1800 rows × 12 columns</p>\n",
       "</div>"
      ],
      "text/plain": [
       "      essay_id  essay_set  rater1_domain1  rater2_domain1  domain1_score  \\\n",
       "0         2978          2               4               4              4   \n",
       "1         2979          2               1               2              1   \n",
       "2         2980          2               2               3              2   \n",
       "3         2981          2               4               4              4   \n",
       "4         2982          2               4               4              4   \n",
       "...        ...        ...             ...             ...            ...   \n",
       "1795      4773          2               3               2              3   \n",
       "1796      4774          2               3               3              3   \n",
       "1797      4775          2               2               2              2   \n",
       "1798      4776          2               3               4              3   \n",
       "1799      4777          2               3               3              3   \n",
       "\n",
       "      avg_score                                        essay_final  type1  \\\n",
       "0             4  ['certain', 'material', 'remove', 'library', '...      1   \n",
       "1             2  ['write', 'persuasive', 'essay', 'newspaper', ...      0   \n",
       "2             3  ['think', 'library', 'remove', 'certain', 'mat...      0   \n",
       "3             4  ['world', 'many', 'thing', 'find', 'offensive'...      1   \n",
       "4             4  ['life', 'thing', 'little', 'stuff', 'get', 's...      1   \n",
       "...         ...                                                ...    ...   \n",
       "1795          3  ['author', 'writting', 'take', 'book', 'adult'...      0   \n",
       "1796          3  ['think', 'material', 'book', 'music', 'movie'...      0   \n",
       "1797          2  ['yes', 'keep', 'book', 'music', 'movie', 'mag...      0   \n",
       "1798          4  ['believe', 'book', 'magazine', 'music', 'movi...      1   \n",
       "1799          3  ['different', 'everyone', 'else', 'people', 'f...      0   \n",
       "\n",
       "      type2  type3  type4  type5  \n",
       "0         0      0      1      1  \n",
       "1         0      0      1      0  \n",
       "2         0      0      1      1  \n",
       "3         0      0      1      1  \n",
       "4         0      0      1      1  \n",
       "...     ...    ...    ...    ...  \n",
       "1795      0      0      1      1  \n",
       "1796      0      0      1      1  \n",
       "1797      0      0      1      0  \n",
       "1798      0      0      1      1  \n",
       "1799      0      0      1      1  \n",
       "\n",
       "[1800 rows x 12 columns]"
      ]
     },
     "execution_count": 229,
     "metadata": {},
     "output_type": "execute_result"
    }
   ],
   "source": [
    "train_set"
   ]
  },
  {
   "cell_type": "markdown",
   "metadata": {},
   "source": [
    "## Classification with Average Score (6 labels from 1-6)"
   ]
  },
  {
   "cell_type": "code",
   "execution_count": 234,
   "metadata": {},
   "outputs": [],
   "source": [
    "# splitting into training and testing set\n",
    "train_essay, test_essay, train_label, test_label = model_selection.train_test_split(train_set['essay_final'], train_set['avg_score'], test_size=0.3)\n",
    "\n",
    "# transform the avg score into label of 0,1,2,3....\n",
    "Encoder = LabelEncoder()\n",
    "train_label = Encoder.fit_transform(train_label)\n",
    "test_label = Encoder.transform(test_label)\n",
    "\n",
    "# transform essay into matrix\n",
    "Tfidf_vect = TfidfVectorizer()\n",
    "Tfidf_vect.fit(train_set[\"essay_final\"])\n",
    "train_essay_vect = Tfidf_vect.transform(train_essay)\n",
    "test_essay_vect = Tfidf_vect.transform(test_essay)\n"
   ]
  },
  {
   "cell_type": "code",
   "execution_count": 235,
   "metadata": {},
   "outputs": [
    {
     "name": "stdout",
     "output_type": "stream",
     "text": [
      "accuracy score: 50.37037037037037\n",
      "[[  0   0   1   6   0   0]\n",
      " [  0   0   5  29   0   0]\n",
      " [  0   0   3 197   0   0]\n",
      " [  0   0   0 269   0   0]\n",
      " [  0   0   0  29   0   0]\n",
      " [  0   0   0   1   0   0]]\n"
     ]
    }
   ],
   "source": [
    "# fitting training set into naive bayes\n",
    "naive = naive_bayes.MultinomialNB()\n",
    "naive.fit(train_essay_vect, train_label)\n",
    "\n",
    "# fitting testing set on NB classifier\n",
    "predictions_NB = naive.predict(test_essay_vect)\n",
    "print(\"accuracy score:\", accuracy_score(predictions_NB, test_label)*100)\n",
    "\n",
    "# producing confusion matrix\n",
    "con_matrix = confusion_matrix(test_label, predictions_NB)\n",
    "print(con_matrix)"
   ]
  },
  {
   "cell_type": "code",
   "execution_count": 236,
   "metadata": {},
   "outputs": [
    {
     "name": "stdout",
     "output_type": "stream",
     "text": [
      "accuracy score: 49.81481481481482\n",
      "[[  0   0   0   7   0   0]\n",
      " [  0   0   0  34   0   0]\n",
      " [  0   0   0 200   0   0]\n",
      " [  0   0   0 269   0   0]\n",
      " [  0   0   0  29   0   0]\n",
      " [  0   0   0   1   0   0]]\n"
     ]
    }
   ],
   "source": [
    "# Classifier - Algorithm - SVM\n",
    "# fit the training dataset on the classifier\n",
    "SVM = svm.SVC(C=1.0, kernel='rbf', degree=2, gamma='auto')\n",
    "SVM.fit(train_essay_vect, train_label)\n",
    "predictions_SVM = SVM.predict(test_essay_vect)\n",
    "print(\"accuracy score:\", accuracy_score(predictions_SVM, test_label)*100)\n",
    "\n",
    "# producing confusion matrix\n",
    "con_matrix = confusion_matrix(test_label, predictions_SVM)\n",
    "print(con_matrix)"
   ]
  },
  {
   "cell_type": "code",
   "execution_count": 237,
   "metadata": {},
   "outputs": [
    {
     "name": "stdout",
     "output_type": "stream",
     "text": [
      "              precision    recall  f1-score   support\n",
      "\n",
      "           0       0.00      0.00      0.00         7\n",
      "           1       0.00      0.00      0.00        34\n",
      "           2       0.33      0.01      0.03       200\n",
      "           3       0.51      1.00      0.67       269\n",
      "           4       0.00      0.00      0.00        29\n",
      "           5       0.00      0.00      0.00         1\n",
      "\n",
      "    accuracy                           0.50       540\n",
      "   macro avg       0.14      0.17      0.12       540\n",
      "weighted avg       0.38      0.50      0.35       540\n",
      "\n"
     ]
    },
    {
     "name": "stderr",
     "output_type": "stream",
     "text": [
      "/Users/charleslim/opt/anaconda3/lib/python3.7/site-packages/sklearn/metrics/_classification.py:1272: UndefinedMetricWarning: Precision and F-score are ill-defined and being set to 0.0 in labels with no predicted samples. Use `zero_division` parameter to control this behavior.\n",
      "  _warn_prf(average, modifier, msg_start, len(result))\n"
     ]
    }
   ],
   "source": [
    "from sklearn.metrics import classification_report\n",
    "\n",
    "rep = classification_report(test_label, predictions_NB)\n",
    "print(rep)"
   ]
  },
  {
   "cell_type": "code",
   "execution_count": null,
   "metadata": {},
   "outputs": [],
   "source": []
  },
  {
   "cell_type": "code",
   "execution_count": null,
   "metadata": {},
   "outputs": [],
   "source": []
  },
  {
   "cell_type": "markdown",
   "metadata": {},
   "source": [
    "### Type 1: 1-3, 4-6<br/>Type 2: 1-4, 5-6<br/>Type 3: 1-5, 6<br/>Type 4: 1, 5-6<br/>Type 5: 1-2, 3-6"
   ]
  },
  {
   "cell_type": "code",
   "execution_count": 233,
   "metadata": {},
   "outputs": [
    {
     "name": "stdout",
     "output_type": "stream",
     "text": [
      "\n",
      "===============================\n",
      "TYPE: 1\n",
      "NAIVE BAYES: \n",
      "accuracy score: 56.851851851851855\n",
      "[[ 18 232]\n",
      " [  1 289]]\n",
      "------------------------\n",
      "SVM: \n",
      "accuracy score: 53.70370370370371\n",
      "[[  0 250]\n",
      " [  0 290]]\n",
      "\n",
      "\n",
      "===============================\n",
      "TYPE: 2\n",
      "NAIVE BAYES: \n",
      "accuracy score: 93.88888888888889\n",
      "[[507   0]\n",
      " [ 33   0]]\n",
      "------------------------\n",
      "SVM: \n",
      "accuracy score: 93.88888888888889\n",
      "[[507   0]\n",
      " [ 33   0]]\n",
      "\n",
      "\n",
      "===============================\n",
      "TYPE: 3\n",
      "NAIVE BAYES: \n",
      "accuracy score: 99.44444444444444\n",
      "[[537   0]\n",
      " [  3   0]]\n",
      "------------------------\n",
      "SVM: \n",
      "accuracy score: 99.44444444444444\n",
      "[[537   0]\n",
      " [  3   0]]\n",
      "\n",
      "\n",
      "===============================\n",
      "TYPE: 4\n",
      "NAIVE BAYES: \n",
      "accuracy score: 99.44444444444444\n",
      "[[  0   3]\n",
      " [  0 537]]\n",
      "------------------------\n",
      "SVM: \n",
      "accuracy score: 99.44444444444444\n",
      "[[  0   3]\n",
      " [  0 537]]\n",
      "\n",
      "\n",
      "===============================\n",
      "TYPE: 5\n",
      "NAIVE BAYES: \n",
      "accuracy score: 92.4074074074074\n",
      "[[  0  41]\n",
      " [  0 499]]\n",
      "------------------------\n",
      "SVM: \n",
      "accuracy score: 92.4074074074074\n",
      "[[  0  41]\n",
      " [  0 499]]\n",
      "\n"
     ]
    }
   ],
   "source": [
    "types = ['type1', 'type2', 'type3', 'type4', 'type5']\n",
    "for i in range(len(types)) :\n",
    "    print()\n",
    "    print(\"===============================\")\n",
    "    print(\"TYPE:\", i+1, )\n",
    "    typ = types[i]\n",
    "    \n",
    "    # splitting into training and testing set\n",
    "    train_essay, test_essay, train_label, test_label = model_selection.train_test_split(train_set['essay_final'], train_set[typ], test_size=0.3)\n",
    "    \n",
    "    # transform the avg score into label of 0,1,2,3....\n",
    "    Encoder = LabelEncoder()\n",
    "    train_label = Encoder.fit_transform(train_label)\n",
    "    test_label = Encoder.transform(test_label)\n",
    "\n",
    "    # transform essay into matrix\n",
    "    Tfidf_vect = TfidfVectorizer()\n",
    "    Tfidf_vect.fit(train_set[\"essay_final\"])\n",
    "    train_essay_vect = Tfidf_vect.transform(train_essay)\n",
    "    test_essay_vect = Tfidf_vect.transform(test_essay)\n",
    "    \n",
    "    print(\"NAIVE BAYES: \")\n",
    "    ## NAIVE BAYES\n",
    "    # fitting training set into naive bayes\n",
    "    naive = naive_bayes.MultinomialNB()\n",
    "    naive.fit(train_essay_vect, train_label)\n",
    "    \n",
    "    # fitting testing set on NB classifier\n",
    "    predictions_NB = naive.predict(test_essay_vect)\n",
    "    print(\"accuracy score:\", accuracy_score(predictions_NB, test_label)*100)\n",
    "\n",
    "    # producing confusion matrix\n",
    "    con_matrix = confusion_matrix(test_label, predictions_NB)\n",
    "    print(con_matrix)\n",
    "\n",
    "    print(\"------------------------\")\n",
    "    print(\"SVM: \")\n",
    "    ## SVM \n",
    "    # fit the training dataset on the classifier\n",
    "    SVM = svm.SVC(C=1.0, kernel='rbf', degree=2, gamma='auto')\n",
    "    SVM.fit(train_essay_vect, train_label)\n",
    "    predictions_SVM = SVM.predict(test_essay_vect)\n",
    "    print(\"accuracy score:\", accuracy_score(predictions_SVM, test_label)*100)\n",
    "\n",
    "    # producing confusion matrix\n",
    "    con_matrix = confusion_matrix(test_label, predictions_SVM)\n",
    "    print(con_matrix)\n",
    "    print()"
   ]
  },
  {
   "cell_type": "code",
   "execution_count": null,
   "metadata": {},
   "outputs": [],
   "source": []
  },
  {
   "cell_type": "markdown",
   "metadata": {},
   "source": [
    "#### Type 1\n",
    "Issue: Most Class 0 is classified as Class 1\n",
    "<br>Type 1 is 1-3, 4-6\n",
    "<br>This implies that most of score 1-3 is classified as 4-6\n",
    "\n",
    "#### Type 2\n",
    "Issue: Most Class 1 is classified as Class 0\n",
    "<br>Type 2 is 1-4, 5-6\n",
    "<br>This implies that most of score 5-6 is classified as 1-4\n",
    "\n",
    "#### Type 3\n",
    "Issue: \"same as type 2\"\n",
    "<br>Type 3 is 1-5, 6\n",
    "<br>This implies that most of score 6 is classified as 1-5\n",
    "\n",
    "#### Type 4\n",
    "Issue: \"same as type 1\"\n",
    "<br>Type 4 is 1, 5-6\n",
    "<br>This implies that most of score 1 is classified as 5-6\n",
    "\n",
    "#### Type 5\n",
    "Issue: \"same as type 1\"\n",
    "<br>Type 5 is 1-2, 3-6\n",
    "<br>This implies that most of score 1-2 is classified as 3-6"
   ]
  },
  {
   "cell_type": "markdown",
   "metadata": {},
   "source": [
    "Type 1, Type 4 and 5 have same issue: Class 0 classified as Class 1\n",
    "<br>Type 2 and Type 3 have same issue: Class 1 classified as Class 0"
   ]
  },
  {
   "cell_type": "code",
   "execution_count": null,
   "metadata": {},
   "outputs": [],
   "source": []
  },
  {
   "cell_type": "code",
   "execution_count": null,
   "metadata": {},
   "outputs": [],
   "source": []
  },
  {
   "cell_type": "code",
   "execution_count": null,
   "metadata": {},
   "outputs": [],
   "source": []
  },
  {
   "cell_type": "code",
   "execution_count": null,
   "metadata": {},
   "outputs": [],
   "source": []
  },
  {
   "cell_type": "code",
   "execution_count": null,
   "metadata": {},
   "outputs": [],
   "source": []
  },
  {
   "cell_type": "code",
   "execution_count": null,
   "metadata": {},
   "outputs": [],
   "source": []
  },
  {
   "cell_type": "markdown",
   "metadata": {},
   "source": [
    "## Classification with Type 1 (2 labels: Label 0: Score 1-3, Label 1: Score 4-6)"
   ]
  },
  {
   "cell_type": "code",
   "execution_count": 196,
   "metadata": {},
   "outputs": [],
   "source": [
    "# splitting into training and testing set\n",
    "train_essay, test_essay, train_label, test_label = model_selection.train_test_split(train_set['essay_final'], train_set['type1'], test_size=0.3)\n",
    "\n",
    "# transform the avg score into label of 0,1,2,3....\n",
    "Encoder = LabelEncoder()\n",
    "train_label = Encoder.fit_transform(train_label)\n",
    "test_label = Encoder.transform(test_label)\n",
    "\n",
    "# transform essay into matrix\n",
    "Tfidf_vect = TfidfVectorizer()\n",
    "Tfidf_vect.fit(train_set[\"essay_final\"])\n",
    "train_essay_vect = Tfidf_vect.transform(train_essay)\n",
    "test_essay_vect = Tfidf_vect.transform(test_essay)\n"
   ]
  },
  {
   "cell_type": "code",
   "execution_count": 197,
   "metadata": {},
   "outputs": [
    {
     "name": "stdout",
     "output_type": "stream",
     "text": [
      "accuracy score: 63.51851851851852\n",
      "[[ 33 195]\n",
      " [  2 310]]\n"
     ]
    }
   ],
   "source": [
    "# fitting training set into naive bayes\n",
    "naive = naive_bayes.MultinomialNB()\n",
    "naive.fit(train_essay_vect, train_label)\n",
    "\n",
    "# fitting testing set on NB classifier\n",
    "predictions_NB = naive.predict(test_essay_vect)\n",
    "print(\"accuracy score:\", accuracy_score(predictions_NB, test_label)*100)\n",
    "\n",
    "# producing confusion matrix\n",
    "con_matrix = confusion_matrix(test_label, predictions_NB)\n",
    "print(con_matrix)"
   ]
  },
  {
   "cell_type": "code",
   "execution_count": 198,
   "metadata": {},
   "outputs": [
    {
     "name": "stdout",
     "output_type": "stream",
     "text": [
      "accuracy score: 57.77777777777777\n",
      "[[  0 228]\n",
      " [  0 312]]\n"
     ]
    }
   ],
   "source": [
    "# Classifier - Algorithm - SVM\n",
    "# fit the training dataset on the classifier\n",
    "SVM = svm.SVC(C=1.0, kernel='rbf', degree=2, gamma='auto')\n",
    "SVM.fit(train_essay_vect, train_label)\n",
    "predictions_SVM = SVM.predict(test_essay_vect)\n",
    "print(\"accuracy score:\", accuracy_score(predictions_SVM, test_label)*100)\n",
    "\n",
    "# producing confusion matrix\n",
    "con_matrix = confusion_matrix(test_label, predictions_SVM)\n",
    "print(con_matrix)"
   ]
  },
  {
   "cell_type": "code",
   "execution_count": null,
   "metadata": {},
   "outputs": [],
   "source": []
  },
  {
   "cell_type": "code",
   "execution_count": null,
   "metadata": {},
   "outputs": [],
   "source": []
  },
  {
   "cell_type": "code",
   "execution_count": null,
   "metadata": {},
   "outputs": [],
   "source": []
  },
  {
   "cell_type": "code",
   "execution_count": null,
   "metadata": {},
   "outputs": [],
   "source": []
  },
  {
   "cell_type": "code",
   "execution_count": null,
   "metadata": {},
   "outputs": [],
   "source": []
  },
  {
   "cell_type": "code",
   "execution_count": null,
   "metadata": {},
   "outputs": [],
   "source": []
  },
  {
   "cell_type": "code",
   "execution_count": null,
   "metadata": {},
   "outputs": [],
   "source": []
  },
  {
   "cell_type": "code",
   "execution_count": null,
   "metadata": {},
   "outputs": [],
   "source": []
  },
  {
   "cell_type": "code",
   "execution_count": null,
   "metadata": {},
   "outputs": [],
   "source": []
  },
  {
   "cell_type": "code",
   "execution_count": null,
   "metadata": {},
   "outputs": [],
   "source": []
  },
  {
   "cell_type": "code",
   "execution_count": 167,
   "metadata": {},
   "outputs": [
    {
     "data": {
      "text/plain": [
       "1005    ['censorship', 'touchy', 'subject', 'society',...\n",
       "1471    ['would', 'like', 'someone', 'take', 'book', '...\n",
       "967     ['find', 'thing', 'offensive', 'wether', 'book...\n",
       "1268    ['every', 'parent', 'want', 'protect', 'child'...\n",
       "1622    ['censorship', 'method', 'limit', 'certain', '...\n",
       "                              ...                        \n",
       "1362    ['censorship', 'future', 'kid', 'america', 'pe...\n",
       "205     ['consitered', 'offensive', 'take', 'book', 'm...\n",
       "1496    ['censorship', 'library', 'question', 'side', ...\n",
       "369     ['censorship', 'world', 'get', 'bad', 'everyda...\n",
       "707     ['think', 'library', 'book', 'make', 'start', ...\n",
       "Name: essay_final, Length: 540, dtype: object"
      ]
     },
     "execution_count": 167,
     "metadata": {},
     "output_type": "execute_result"
    }
   ],
   "source": [
    "test_essay"
   ]
  },
  {
   "cell_type": "code",
   "execution_count": 176,
   "metadata": {},
   "outputs": [
    {
     "data": {
      "text/plain": [
       "index                                                       1654\n",
       "essay_final    ['happen', 'use', 'book', 'film', 'simple', 'e...\n",
       "Name: 99, dtype: object"
      ]
     },
     "execution_count": 176,
     "metadata": {},
     "output_type": "execute_result"
    }
   ],
   "source": [
    "te = test_essay.reset_index()\n",
    "te.iloc[99,:]"
   ]
  },
  {
   "cell_type": "code",
   "execution_count": null,
   "metadata": {},
   "outputs": [],
   "source": []
  },
  {
   "cell_type": "code",
   "execution_count": null,
   "metadata": {},
   "outputs": [],
   "source": []
  },
  {
   "cell_type": "code",
   "execution_count": null,
   "metadata": {},
   "outputs": [],
   "source": []
  },
  {
   "cell_type": "code",
   "execution_count": 114,
   "metadata": {},
   "outputs": [],
   "source": [
    "# splitting into training and testing set\n",
    "train_essay, test_essay, train_label, test_label = model_selection.train_test_split(train_set['essay_final'], train_set['type1'], test_size=0.3)"
   ]
  },
  {
   "cell_type": "code",
   "execution_count": 115,
   "metadata": {},
   "outputs": [],
   "source": [
    "# transform the avg score into label of 0,1,2,3....\n",
    "Encoder = LabelEncoder()\n",
    "train_label = Encoder.fit_transform(train_label)\n",
    "test_label = Encoder.transform(test_label)"
   ]
  },
  {
   "cell_type": "code",
   "execution_count": 119,
   "metadata": {},
   "outputs": [],
   "source": [
    "# transform essay into matrix\n",
    "Tfidf_vect = TfidfVectorizer()\n",
    "Tfidf_vect.fit(train_set[\"essay_final\"])\n",
    "train_essay_vect = Tfidf_vect.transform(train_essay)\n",
    "test_essay_vect = Tfidf_vect.transform(test_essay)"
   ]
  },
  {
   "cell_type": "code",
   "execution_count": 121,
   "metadata": {},
   "outputs": [
    {
     "name": "stdout",
     "output_type": "stream",
     "text": [
      "63.70370370370371\n"
     ]
    }
   ],
   "source": [
    "# fitting training set into naive bayes\n",
    "naive = naive_bayes.MultinomialNB()\n",
    "naive.fit(train_essay_vect, train_label)\n",
    "\n",
    "# fitting testing set on NB classifier\n",
    "predictions_NB = naive.predict(test_essay_vect)\n",
    "print(accuracy_score(predictions_NB, test_label)*100)\n",
    "# predictions_NB"
   ]
  },
  {
   "cell_type": "code",
   "execution_count": 122,
   "metadata": {},
   "outputs": [
    {
     "name": "stdout",
     "output_type": "stream",
     "text": [
      "SVM Accuracy Score ->  59.81481481481481\n"
     ]
    }
   ],
   "source": [
    "# Classifier - Algorithm - SVM\n",
    "# fit the training dataset on the classifier\n",
    "SVM = svm.SVC(C=1.0, kernel='rbf', degree=2, gamma='auto')\n",
    "SVM.fit(train_essay_vect, train_label)\n",
    "predictions_SVM = SVM.predict(test_essay_vect)\n",
    "print(\"SVM Accuracy Score -> \",accuracy_score(predictions_SVM, test_label)*100)"
   ]
  },
  {
   "cell_type": "code",
   "execution_count": null,
   "metadata": {},
   "outputs": [],
   "source": []
  }
 ],
 "metadata": {
  "kernelspec": {
   "display_name": "Python 3",
   "language": "python",
   "name": "python3"
  },
  "language_info": {
   "codemirror_mode": {
    "name": "ipython",
    "version": 3
   },
   "file_extension": ".py",
   "mimetype": "text/x-python",
   "name": "python",
   "nbconvert_exporter": "python",
   "pygments_lexer": "ipython3",
   "version": "3.7.4"
  }
 },
 "nbformat": 4,
 "nbformat_minor": 4
}
